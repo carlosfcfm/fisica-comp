{
 "cells": [
  {
   "cell_type": "markdown",
   "id": "d2b7d7ba",
   "metadata": {},
   "source": [
    "# PARTE 1 - INTRODUCCIÓN A PYHTON E IPHYTON\n",
    "\n"
   ]
  },
  {
   "cell_type": "code",
   "execution_count": null,
   "id": "1223f091",
   "metadata": {},
   "outputs": [],
   "source": [
    "print ('Hola mundo')\n",
    "a = 1 + 3j\n",
    "a\n"
   ]
  },
  {
   "cell_type": "code",
   "execution_count": 10,
   "id": "a7039017",
   "metadata": {},
   "outputs": [
    {
     "name": "stdout",
     "output_type": "stream",
     "text": [
      "El resultado de multiplicar y*z es:  15\n"
     ]
    }
   ],
   "source": [
    "x, y, z= 1, 3, 5\n",
    "print (\"El resultado de multiplicar y*z es: \", y*z)"
   ]
  },
  {
   "cell_type": "code",
   "execution_count": null,
   "id": "63d52fd8",
   "metadata": {},
   "outputs": [],
   "source": [
    "|l|\n",
    "|l|\n",
    "|l|str"
   ]
  },
  {
   "cell_type": "code",
   "execution_count": 12,
   "id": "9e19c97b",
   "metadata": {},
   "outputs": [
    {
     "data": {
      "text/plain": [
       "900.5"
      ]
     },
     "execution_count": 12,
     "metadata": {},
     "output_type": "execute_result"
    }
   ],
   "source": [
    "(10*90)+0.5\n"
   ]
  },
  {
   "cell_type": "code",
   "execution_count": 13,
   "id": "07be82de",
   "metadata": {},
   "outputs": [
    {
     "data": {
      "text/plain": [
       "1"
      ]
     },
     "execution_count": 13,
     "metadata": {},
     "output_type": "execute_result"
    }
   ],
   "source": [
    "5//3"
   ]
  },
  {
   "cell_type": "code",
   "execution_count": 14,
   "id": "39f2e65c",
   "metadata": {},
   "outputs": [
    {
     "data": {
      "text/plain": [
       "2.8284271247461903"
      ]
     },
     "execution_count": 14,
     "metadata": {},
     "output_type": "execute_result"
    }
   ],
   "source": [
    "abs(2+2j)"
   ]
  },
  {
   "cell_type": "code",
   "execution_count": 18,
   "id": "6d34b4c0",
   "metadata": {},
   "outputs": [
    {
     "data": {
      "text/plain": [
       "2"
      ]
     },
     "execution_count": 18,
     "metadata": {},
     "output_type": "execute_result"
    }
   ],
   "source": [
    "Height=2.34\n",
    "type(Height)\n",
    "round(Height)"
   ]
  },
  {
   "cell_type": "code",
   "execution_count": 19,
   "id": "8cc97a97",
   "metadata": {},
   "outputs": [
    {
     "data": {
      "text/plain": [
       "5"
      ]
     },
     "execution_count": 19,
     "metadata": {},
     "output_type": "execute_result"
    }
   ],
   "source": [
    "max (0,2,3,5)"
   ]
  },
  {
   "cell_type": "code",
   "execution_count": 20,
   "id": "d24e6023",
   "metadata": {},
   "outputs": [
    {
     "data": {
      "text/plain": [
       "1"
      ]
     },
     "execution_count": 20,
     "metadata": {},
     "output_type": "execute_result"
    }
   ],
   "source": [
    "min(1,5,3,7)"
   ]
  },
  {
   "cell_type": "code",
   "execution_count": null,
   "id": "e2449068",
   "metadata": {},
   "outputs": [],
   "source": []
  }
 ],
 "metadata": {
  "kernelspec": {
   "display_name": "Python 3 (ipykernel)",
   "language": "python",
   "name": "python3"
  },
  "language_info": {
   "codemirror_mode": {
    "name": "ipython",
    "version": 3
   },
   "file_extension": ".py",
   "mimetype": "text/x-python",
   "name": "python",
   "nbconvert_exporter": "python",
   "pygments_lexer": "ipython3",
   "version": "3.11.4"
  }
 },
 "nbformat": 4,
 "nbformat_minor": 5
}
